{
  "cells": [
    {
      "cell_type": "markdown",
      "metadata": {
        "id": "WpYK9fIlyZCq"
      },
      "source": [
        "# Lab Deep Learning / Multi-Layer Perceptron for classification / in pytorch\n",
        "\n",
        "**Author: geoffroy.peeters@telecom-paris.fr**\n",
        "\n",
        "For any remark or suggestion, please feel free to contact me.\n",
        "\n",
        "Last edit: 2020/04/27 peeters\n",
        "\n",
        "Read the \"introduction to pytorch\" slides first: https://perso.telecom-paristech.fr/gpeeters/doc/pytorch/\n",
        "\n",
        "**Is is recommended that you first perform the ```Lab Deep Learning / Multi-Layer Perceptron for regression / in pytorch``` Lab to understand how to write a Neural Network in pytorch.**\n",
        "\n",
        "\n",
        "## Objective:\n",
        "\n",
        "The objective of this lab is to develop a two hidden layers MLP to perform image **classification**.\n",
        "\n",
        "While the previous Lab ```Lab Deep Learning / Multi-Layer Perceptron for regression / in pytorch``` focused on how to write a Neural Network, the present Lab focuses on managing datasets and splitting training and testing .\n",
        "\n",
        "We will use MNIST for the image dataset.\n",
        "\n",
        "## Your task:\n",
        "\n",
        "You need to add the missing parts in the code (parts between ```# --- START CODE HERE``` and ```# --- END CODE HERE```)\n",
        "\n",
        "## Documentation:\n",
        "- NN: https://pytorch.org/docs/stable/nn.html\n",
        "- Autograd: https://pytorch.org/docs/stable/autograd.html\n",
        "- Optim: https://pytorch.org/docs/stable/optim.html\n"
      ]
    },
    {
      "cell_type": "code",
      "execution_count": 1,
      "metadata": {
        "id": "h6o3NZfNyZCt"
      },
      "outputs": [],
      "source": [
        "import torch\n",
        "import torch.nn as nn\n",
        "import torch.nn.functional as F\n",
        "import torch.optim as optim\n",
        "from torchvision import datasets, transforms\n",
        "import matplotlib.pyplot as plt"
      ]
    },
    {
      "cell_type": "markdown",
      "metadata": {
        "id": "Vy7u-IVkyZCu"
      },
      "source": [
        "## Data management\n",
        "\n",
        "It is common to separate the datasets into\n",
        "- a **training** part (used to find the network parameters which minimize the loss)\n",
        "- a **test part** (used to estimate the performances).\n",
        "\n",
        "The training part can itself be further splitted into a training and a validation part (the validation part is then used to fix the hyper-parameters of the system).\n",
        "\n",
        "When performing ```batch gradient descent``` the whole training set is used to compute the gradients (which itself is used for the parameter optimization).\n",
        "However when performing ```stochastic or mini-batch gradient descent``` only a part of the training data is used at each iteration.\n",
        "\n",
        "We therefore needs to write all the necessary code, to get these mini-batches of data, be sure that all data have been seen, potentially randomize the order of appearance of these data and potentially perform some modifications of the data before giving them to the network.\n",
        "\n",
        "Fortunatelly, pytorch has associated to it (but not included in it) a nice package (```torchvision```) which allows to do all that for us.\n",
        "\n",
        "This package allows to perform these process for any datasets but has a pre-tuned method for the ```MNIST```datasets.\n",
        "\n",
        "### Datasets\n",
        "\n",
        "In the following we will us ```datasets.MNIST``` to load the train and test data.\n",
        "\n",
        "We need to tell it to download the data, where to dowload them and if we want the training or the testing part of it.\n",
        "\n",
        "We then tell it if we want to apply some transformations to the data.\n",
        "\n",
        "For this lab, we will transform the data by\n",
        "- 1) transforming them to torch tensors (using ```transforms.ToTensor()```); since by default they are not torch tensors\n",
        "- 2) normalize them to zero mean and unit standard deviation (using ```transforms.Normalize()```).\n",
        "\n",
        "It is of course possible to also apply data augmentation.\n",
        "\n",
        "Since we have several transforms to be performed, we will compose them using ```transforms.Compose([transform1, transform2])```\n",
        "\n",
        "The corresponding datasets is a class which contains the pairs of [input tensors $X$, corresponding ground-truth label $y$].\n",
        "\n",
        "### Dataloader\n",
        "\n",
        "Another nice pytorch facility is the ```Dataloader``` which transforms the dataset to be used as an iterator (i.e. within ```for data in myDataloader: ```).\n",
        "\n",
        "Moreover, ```Dataloader``` allows to specify\n",
        "- how many data will be provided each time it is called (```batch_size```)\n",
        "- if the order of appearance of the data with be random (````shuffle````).\n",
        "\n",
        "We therefore convert our datasets (train and test) to ```DataLoader``` that are directly used as iterator during the iterations (it DataLoader manage directly the mini-batch and shuffling)."
      ]
    },
    {
      "cell_type": "code",
      "execution_count": 8,
      "metadata": {
        "id": "zsSEvakPyZCv"
      },
      "outputs": [],
      "source": [
        "# --- START CODE HERE\n",
        "train_set = datasets.MNIST('data', train=True, download=True, transform=transforms.Compose(\n",
        "    [transforms.ToTensor(), transforms.Normalize((0.1307,), (0.3081,))]))\n",
        "train_loader = torch.utils.data.DataLoader(\n",
        "    train_set, batch_size=32, shuffle=True)\n",
        "test_set = datasets.MNIST('data', train=False, download=True, transform=transforms.Compose(\n",
        "    [transforms.ToTensor(), transforms.Normalize((0.1307,), (0.3081,))]))\n",
        "test_loader = torch.utils.data.DataLoader(\n",
        "    test_set, batch_size=32, shuffle=True)\n",
        "# --- END CODE HERE"
      ]
    },
    {
      "cell_type": "code",
      "execution_count": 9,
      "metadata": {
        "colab": {
          "base_uri": "https://localhost:8080/",
          "height": 240
        },
        "id": "FFuEXr0tyZCw",
        "outputId": "59ad5329-e7b3-4dd3-f0f7-79bbbcfde7f7"
      },
      "outputs": [
        {
          "name": "stdout",
          "output_type": "stream",
          "text": [
            "dataset type: <class 'torchvision.datasets.mnist.MNIST'>\n",
            "dataset size: 60000\n",
            "X data: torch.Size([1, 28, 28])\n",
            "y data: 5\n"
          ]
        }
      ],
      "source": [
        "print(\"dataset type: {}\".format(type(train_set)))\n",
        "print(\"dataset size: {}\".format(len(train_set)))\n",
        "print(\"X data: {}\".format(train_set[0][0].size()))\n",
        "print(\"y data: {}\".format(train_set[0][1]))"
      ]
    },
    {
      "cell_type": "markdown",
      "metadata": {
        "id": "piAf25dxyZCx"
      },
      "source": [
        "### Display the first 5 data of MNIST dataset."
      ]
    },
    {
      "cell_type": "code",
      "execution_count": 10,
      "metadata": {
        "id": "Jsa2MAEhyZCx"
      },
      "outputs": [
        {
          "data": {
            "image/png": "[encoded data removed]",
            "text/plain": [
              "<Figure size 640x480 with 5 Axes>"
            ]
          },
          "metadata": {},
          "output_type": "display_data"
        }
      ],
      "source": [
        "# ------------------------------------\n",
        "for num in range(0, 5):\n",
        "    one_data = next(iter(train_loader))\n",
        "    plt.subplot(1, 5, num+1)\n",
        "    plt.imshow(one_data[0][0][0, :, :])\n",
        "    plt.title(one_data[1][0].item())"
      ]
    },
    {
      "cell_type": "markdown",
      "metadata": {
        "id": "bo6-KX8UyZCy"
      },
      "source": [
        "## Network setting\n",
        "\n",
        "While image classification, is usually performed using Convolutional Neural Networks, we will use here a Multi-Layer-Perceptron (also named ```fully-connected```).\n",
        "For this, we will flatten (i.e. convert the iamge 2D matrix to a 1D vector) the input images.\n",
        "\n",
        "- The input images are of size 28*28 and are converted to vectors of size ```n_in```=784.\n",
        "\n",
        "- The two hidden layers have````n_h1````=500 and ```n_h2```=256 unit/neurons each and ```Relu```activations.\n",
        "\n",
        "- The output are the ```n_out```=10 classes (the 10 digits to be recognized).\n",
        "\n",
        "Since we deal with a muti-class problem (10 classes), the output activations is therefore a ```softmax```.\n",
        "\n",
        "Note that since the ```softmax```output will be given to a ```cross-entropy```, the ```log```et the latter can be directly added to the ```softmax```. This leads to the pytorch function ```F.log_softmax```.\n"
      ]
    },
    {
      "cell_type": "code",
      "execution_count": 11,
      "metadata": {
        "id": "H0uIIQb9yZCy"
      },
      "outputs": [],
      "source": [
        "class Net(nn.Module):\n",
        "    def __init__(self):\n",
        "        n_in = 28*28\n",
        "        n_h1 = 500\n",
        "        n_h2 = 256\n",
        "        n_out = 10\n",
        "        super(Net, self).__init__()\n",
        "        # --- START CODE HERE\n",
        "        self.linear1 = nn.Linear(n_in, n_h1)\n",
        "        self.linear2 = nn.Linear(n_h1, n_h2)\n",
        "        self.linear3 = nn.Linear(n_h2, n_out)\n",
        "        # --- END CODE HERE\n",
        "\n",
        "    def forward(self, x):\n",
        "        # --- START CODE HERE\n",
        "        x = self.linear3(torch.relu(self.linear2(\n",
        "            torch.relu(self.linear1(torch.flatten(x, 1))))))\n",
        "        # --- END CODE HERE\n",
        "        return F.log_softmax(x, dim=1)"
      ]
    },
    {
      "cell_type": "markdown",
      "metadata": {
        "id": "x7qcgKFwyZCz"
      },
      "source": [
        "## Defining the train and test functions\n",
        "\n",
        "In the present lab, we distinguish between train and test data.\n",
        "We therefore write\n",
        "- a train function (to learn the network parameters on the train data),\n",
        "- a test function (to evaluate the network's performances on the test data).\n",
        "\n",
        "The ```train``` and ```test```function will perform the computation for a given ```epoch```.\n",
        "The functions therefore only need to ```loop over``` the mini-batches.\n",
        "This is now easy since we defined our ```Dataloader```for train and test.\n",
        "\n",
        "For the train function, for each mini-batch, we  \n",
        "- compute the forward pass by passing the data to the model: haty = model(x)\n",
        "- compute the the loss (the criterion)\n",
        "- putting at zero the gradients of all the parameters of the network (this is important since, by default, pytorch accumulate the gradients over time)\n",
        "- computing the backpropagation (using as before .backward())\n",
        "- performing one step of optimization (using .step())\n",
        "\n",
        "For the train function, we set the model to train mode (```model.train()```). This allows to set some specific behaviours for training (such as activate the dropout).\n",
        "\n",
        "For the test function, we set the model to train mode (```model.eval()```). This allows to set some specific behaviours for training (such as removing the dropout).\n",
        "\n",
        "\n",
        "Since we are dealing with a multi-class problem (10 classes), we will minimize as loss the ```cross-entropy``` (named negative-log-likelihood ```nll_loss```in pytorch).\n",
        "Since ```nll_loss```does not contains the ```log``` we have added it directly to the softmax by using the ```log_softmax```as output activation of our network.\n",
        "\n",
        "Note that we could use the loss from the nn package (```torch.nn.NLLLoss```) it is then a class which needs to be first instanciated.\n",
        "We can also use the same but as a function (```F.nll_loss()```) which can be used directly without instanciating the class."
      ]
    },
    {
      "cell_type": "code",
      "execution_count": 12,
      "metadata": {
        "id": "3dGuPt96yZCz"
      },
      "outputs": [],
      "source": [
        "def train(model, train_loader, optimizer, epoch):\n",
        "    model.train()\n",
        "    for batch_idx, (data, target) in enumerate(train_loader):\n",
        "        # --- START CODE HERE\n",
        "        optimizer.zero_grad()\n",
        "        output = model(data)\n",
        "        loss = F.nll_loss(output, target)\n",
        "        loss.backward()\n",
        "        optimizer.step()\n",
        "        # --- END CODE HERE\n",
        "\n",
        "        if batch_idx % 100 == 0:\n",
        "            print('epoch {}, loss {}'.format(epoch, loss.item()))"
      ]
    },
    {
      "cell_type": "code",
      "execution_count": 16,
      "metadata": {
        "id": "zI8QtzV2yZC0"
      },
      "outputs": [],
      "source": [
        "def test(model, test_loader):\n",
        "    model.eval()\n",
        "    test_loss = 0\n",
        "    correct = 0\n",
        "    with torch.no_grad():\n",
        "        for data, target in test_loader:\n",
        "            # --- START CODE HERE\n",
        "            output = model(data)\n",
        "            test_loss += F.nll_loss(output, target, reduction='sum').item()\n",
        "            pred = output.argmax(dim=1, keepdim=True)\n",
        "            correct += pred.eq(target.view_as(pred)).sum().item()\n",
        "            # --- STOP CODE HERE\n",
        "\n",
        "    test_loss /= len(test_loader.dataset)\n",
        "    correct /= len(test_loader.dataset)\n",
        "    print('\\nTest set: Average loss: {}, Accuracy: {}\\n'.format(test_loss, correct))"
      ]
    },
    {
      "cell_type": "markdown",
      "metadata": {
        "id": "9MXQIbcJyZC0"
      },
      "source": [
        "## Looping over epochs\n",
        "\n",
        "\n",
        "We finally define, how we will optimize our parameters by defining an optimizer.\n",
        "We will use here a very simple one: the SGD (```optim.SGD```) with a learning rate of 0.01.\n",
        "\n",
        "At each iteration, we then call the train and the test function."
      ]
    },
    {
      "cell_type": "code",
      "execution_count": 17,
      "metadata": {
        "id": "ofYcX05ZyZC0"
      },
      "outputs": [
        {
          "name": "stdout",
          "output_type": "stream",
          "text": [
            "epoch 1, loss 2.2948994636535645\n",
            "epoch 1, loss 0.43049636483192444\n",
            "epoch 1, loss 0.5278202295303345\n",
            "epoch 1, loss 0.2510015070438385\n",
            "epoch 1, loss 0.2271662950515747\n",
            "epoch 1, loss 0.15359967947006226\n",
            "epoch 1, loss 0.10301122069358826\n",
            "epoch 1, loss 0.13927000761032104\n",
            "epoch 1, loss 0.18498378992080688\n",
            "epoch 1, loss 0.21386390924453735\n",
            "epoch 1, loss 0.10950727015733719\n",
            "epoch 1, loss 0.0982339084148407\n",
            "epoch 1, loss 0.22751304507255554\n",
            "epoch 1, loss 0.2563207447528839\n",
            "epoch 1, loss 0.1135517880320549\n",
            "epoch 1, loss 0.10746373981237411\n",
            "epoch 1, loss 0.034890856593847275\n",
            "epoch 1, loss 0.19421613216400146\n",
            "epoch 1, loss 0.07497190684080124\n",
            "\n",
            "Test set: Average loss: 0.10294217993840575, Accuracy: 0.9689\n",
            "\n",
            "epoch 2, loss 0.020732581615447998\n",
            "epoch 2, loss 0.06962970644235611\n",
            "epoch 2, loss 0.09929903596639633\n",
            "epoch 2, loss 0.17075034976005554\n",
            "epoch 2, loss 0.14310115575790405\n",
            "epoch 2, loss 0.014820238575339317\n",
            "epoch 2, loss 0.07330946624279022\n",
            "epoch 2, loss 0.01874576508998871\n",
            "epoch 2, loss 0.06713847815990448\n",
            "epoch 2, loss 0.044149599969387054\n",
            "epoch 2, loss 0.014750367030501366\n",
            "epoch 2, loss 0.020785929635167122\n",
            "epoch 2, loss 0.10259222239255905\n",
            "epoch 2, loss 0.01774146780371666\n",
            "epoch 2, loss 0.0868099257349968\n",
            "epoch 2, loss 0.005523362662643194\n",
            "epoch 2, loss 0.05356549471616745\n",
            "epoch 2, loss 0.18340833485126495\n",
            "epoch 2, loss 0.02660793624818325\n",
            "\n",
            "Test set: Average loss: 0.08234435094296932, Accuracy: 0.9747\n",
            "\n",
            "epoch 3, loss 0.059906698763370514\n",
            "epoch 3, loss 0.005171909928321838\n",
            "epoch 3, loss 0.005850269924849272\n",
            "epoch 3, loss 0.0736749917268753\n",
            "epoch 3, loss 0.021299824118614197\n",
            "epoch 3, loss 0.0007053240551613271\n",
            "epoch 3, loss 0.018040962517261505\n",
            "epoch 3, loss 0.07624759525060654\n",
            "epoch 3, loss 0.03538603335618973\n",
            "epoch 3, loss 0.001666890224441886\n",
            "epoch 3, loss 0.21162371337413788\n",
            "epoch 3, loss 0.05622595548629761\n",
            "epoch 3, loss 0.07266093045473099\n",
            "epoch 3, loss 0.26323559880256653\n",
            "epoch 3, loss 0.07052215933799744\n",
            "epoch 3, loss 0.0027168295346200466\n",
            "epoch 3, loss 0.01368862297385931\n",
            "epoch 3, loss 0.31389111280441284\n",
            "epoch 3, loss 0.14538507163524628\n",
            "\n",
            "Test set: Average loss: 0.07984934781948104, Accuracy: 0.9749\n",
            "\n",
            "epoch 4, loss 0.0021182133350521326\n",
            "epoch 4, loss 0.0017534773796796799\n",
            "epoch 4, loss 0.0027571478858590126\n",
            "epoch 4, loss 0.005031713284552097\n",
            "epoch 4, loss 0.07826513797044754\n",
            "epoch 4, loss 0.053316500037908554\n",
            "epoch 4, loss 0.009804421104490757\n",
            "epoch 4, loss 0.017654530704021454\n",
            "epoch 4, loss 0.012140842154622078\n",
            "epoch 4, loss 0.028884151950478554\n",
            "epoch 4, loss 0.10665028542280197\n",
            "epoch 4, loss 0.001305159879848361\n",
            "epoch 4, loss 0.10018912702798843\n",
            "epoch 4, loss 0.057811442762613297\n",
            "epoch 4, loss 0.018379922956228256\n",
            "epoch 4, loss 0.012767325155436993\n",
            "epoch 4, loss 0.01014932245016098\n",
            "epoch 4, loss 0.05497987940907478\n",
            "epoch 4, loss 0.09930744767189026\n",
            "\n",
            "Test set: Average loss: 0.08325928001066205, Accuracy: 0.9751\n",
            "\n",
            "epoch 5, loss 0.0051514990627765656\n",
            "epoch 5, loss 0.000662876816932112\n",
            "epoch 5, loss 0.04911813512444496\n",
            "epoch 5, loss 0.00038095348281785846\n",
            "epoch 5, loss 0.0036657778546214104\n",
            "epoch 5, loss 0.00231817620806396\n",
            "epoch 5, loss 0.008247151970863342\n",
            "epoch 5, loss 0.000343101448379457\n",
            "epoch 5, loss 0.02835197001695633\n",
            "epoch 5, loss 0.029361667111516\n",
            "epoch 5, loss 0.003134580794721842\n",
            "epoch 5, loss 0.009145884774625301\n",
            "epoch 5, loss 0.024993781000375748\n",
            "epoch 5, loss 0.20519131422042847\n",
            "epoch 5, loss 0.011337189003825188\n",
            "epoch 5, loss 0.002044243738055229\n",
            "epoch 5, loss 0.09581867605447769\n",
            "epoch 5, loss 0.04702615365386009\n",
            "epoch 5, loss 0.005505298729985952\n",
            "\n",
            "Test set: Average loss: 0.06368477425118908, Accuracy: 0.9824\n",
            "\n",
            "epoch 6, loss 0.0122528662905097\n",
            "epoch 6, loss 0.004895987920463085\n",
            "epoch 6, loss 0.0015603407518938184\n",
            "epoch 6, loss 0.0031014166306704283\n",
            "epoch 6, loss 0.008345863781869411\n",
            "epoch 6, loss 0.007162322290241718\n",
            "epoch 6, loss 0.003485478926450014\n",
            "epoch 6, loss 0.001225897460244596\n",
            "epoch 6, loss 0.0802878811955452\n",
            "epoch 6, loss 0.007299360819160938\n",
            "epoch 6, loss 0.01733265444636345\n",
            "epoch 6, loss 0.00018347366130910814\n",
            "epoch 6, loss 0.001374829444102943\n",
            "epoch 6, loss 0.004332749173045158\n",
            "epoch 6, loss 0.006320175249129534\n",
            "epoch 6, loss 0.00950559414923191\n",
            "epoch 6, loss 0.0008778864284977317\n",
            "epoch 6, loss 0.012952733784914017\n",
            "epoch 6, loss 0.0032604022417217493\n",
            "\n",
            "Test set: Average loss: 0.06558104136640905, Accuracy: 0.9812\n",
            "\n",
            "epoch 7, loss 0.0016037089517340064\n",
            "epoch 7, loss 0.01355194952338934\n",
            "epoch 7, loss 0.0006436193361878395\n",
            "epoch 7, loss 0.04362765699625015\n",
            "epoch 7, loss 0.0017047668807208538\n",
            "epoch 7, loss 0.01586136221885681\n",
            "epoch 7, loss 0.0012755111092701554\n",
            "epoch 7, loss 0.01619044877588749\n",
            "epoch 7, loss 0.005874672904610634\n",
            "epoch 7, loss 0.0011102850548923016\n",
            "epoch 7, loss 0.0010983505053445697\n",
            "epoch 7, loss 0.0011282513150945306\n",
            "epoch 7, loss 0.020090697333216667\n",
            "epoch 7, loss 1.96785586012993e-05\n",
            "epoch 7, loss 0.00033931981306523085\n",
            "epoch 7, loss 0.00034435506677255034\n",
            "epoch 7, loss 0.018168164417147636\n",
            "epoch 7, loss 0.00022659372189082205\n",
            "epoch 7, loss 0.002651973394677043\n",
            "\n",
            "Test set: Average loss: 0.0626220613390018, Accuracy: 0.9822\n",
            "\n",
            "epoch 8, loss 0.0004717987321782857\n",
            "epoch 8, loss 0.0015418661059811711\n",
            "epoch 8, loss 0.005010113585740328\n",
            "epoch 8, loss 7.755222031846642e-05\n",
            "epoch 8, loss 0.0025792226660996675\n",
            "epoch 8, loss 0.00040707935113459826\n",
            "epoch 8, loss 0.0013253497891128063\n",
            "epoch 8, loss 0.0248861126601696\n",
            "epoch 8, loss 0.003978527616709471\n",
            "epoch 8, loss 0.0005194984842091799\n",
            "epoch 8, loss 0.0015928461216390133\n",
            "epoch 8, loss 0.00024428896722383797\n",
            "epoch 8, loss 0.00025423060287721455\n",
            "epoch 8, loss 0.0011392266023904085\n",
            "epoch 8, loss 6.0765767557313666e-05\n",
            "epoch 8, loss 0.00041914358735084534\n",
            "epoch 8, loss 0.008732977323234081\n",
            "epoch 8, loss 0.0018866483587771654\n",
            "epoch 8, loss 0.0007018421310931444\n",
            "\n",
            "Test set: Average loss: 0.06307411341956322, Accuracy: 0.9839\n",
            "\n",
            "epoch 9, loss 0.0007889109547249973\n",
            "epoch 9, loss 0.001517250551842153\n",
            "epoch 9, loss 0.000961806159466505\n",
            "epoch 9, loss 0.003448975970968604\n",
            "epoch 9, loss 0.0001051957588060759\n",
            "epoch 9, loss 0.011033586226403713\n",
            "epoch 9, loss 0.0163434948772192\n",
            "epoch 9, loss 0.0012812163913622499\n",
            "epoch 9, loss 0.0001888117694761604\n",
            "epoch 9, loss 0.0008094865479506552\n",
            "epoch 9, loss 0.002238132292404771\n",
            "epoch 9, loss 0.0005128418561071157\n",
            "epoch 9, loss 0.010043306276202202\n",
            "epoch 9, loss 0.08969613164663315\n",
            "epoch 9, loss 0.010461644269526005\n",
            "epoch 9, loss 0.00032114802161231637\n",
            "epoch 9, loss 0.00037232472095638514\n",
            "epoch 9, loss 0.001968455035239458\n",
            "epoch 9, loss 0.005476611666381359\n",
            "\n",
            "Test set: Average loss: 0.07998528142467258, Accuracy: 0.9815\n",
            "\n",
            "epoch 10, loss 0.004345426801592112\n",
            "epoch 10, loss 0.0009051138185895979\n",
            "epoch 10, loss 4.138855365454219e-05\n",
            "epoch 10, loss 8.440875535598025e-05\n",
            "epoch 10, loss 0.004733051173388958\n",
            "epoch 10, loss 0.0001659917616052553\n",
            "epoch 10, loss 0.00205194391310215\n",
            "epoch 10, loss 4.8493668145965785e-05\n",
            "epoch 10, loss 5.719600449083373e-05\n",
            "epoch 10, loss 0.0049657500348985195\n",
            "epoch 10, loss 0.0020743219647556543\n",
            "epoch 10, loss 0.06967862695455551\n",
            "epoch 10, loss 0.003876054659485817\n",
            "epoch 10, loss 0.0002557000261731446\n",
            "epoch 10, loss 2.761506402748637e-05\n",
            "epoch 10, loss 0.07758914679288864\n",
            "epoch 10, loss 0.0005603499012067914\n",
            "epoch 10, loss 0.01454763114452362\n",
            "epoch 10, loss 4.626659119821852e-06\n",
            "\n",
            "Test set: Average loss: 0.06600592596943643, Accuracy: 0.9842\n",
            "\n"
          ]
        }
      ],
      "source": [
        "model = Net()\n",
        "optimizer = optim.SGD(model.parameters(), lr=0.01, momentum=0.9)\n",
        "nb_epoch = 10\n",
        "for epoch in range(1, nb_epoch + 1):\n",
        "    # --- START CODE HERE\n",
        "    train(model, train_loader, optimizer, epoch)\n",
        "    test(model, test_loader)\n",
        "    # --- END CODE HERE"
      ]
    },
    {
      "cell_type": "code",
      "execution_count": null,
      "metadata": {
        "id": "Rmga0J_oyZC1"
      },
      "outputs": [],
      "source": []
    }
  ],
  "metadata": {
    "colab": {
      "provenance": []
    },
    "kernelspec": {
      "display_name": "Python 3",
      "language": "python",
      "name": "python3"
    },
    "language_info": {
      "codemirror_mode": {
        "name": "ipython",
        "version": 3
      },
      "file_extension": ".py",
      "mimetype": "text/x-python",
      "name": "python",
      "nbconvert_exporter": "python",
      "pygments_lexer": "ipython3",
      "version": "3.11.1"
    },
    "toc": {
      "base_numbering": 1,
      "nav_menu": {},
      "number_sections": true,
      "sideBar": true,
      "skip_h1_title": false,
      "title_cell": "Table of Contents",
      "title_sidebar": "Contents",
      "toc_cell": false,
      "toc_position": {
        "height": "calc(100% - 180px)",
        "left": "10px",
        "top": "150px",
        "width": "165px"
      },
      "toc_section_display": true,
      "toc_window_display": false
    }
  },
  "nbformat": 4,
  "nbformat_minor": 0
}
